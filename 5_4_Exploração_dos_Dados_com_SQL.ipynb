{
  "nbformat": 4,
  "nbformat_minor": 0,
  "metadata": {
    "colab": {
      "name": "5.4 Exploração dos Dados com SQL.ipynb",
      "provenance": [],
      "collapsed_sections": []
    },
    "kernelspec": {
      "name": "python3",
      "display_name": "Python 3"
    }
  },
  "cells": [
    {
      "cell_type": "code",
      "metadata": {
        "id": "jWMrtXEuveRx",
        "outputId": "1a1dc0f0-6915-455b-e6cb-ba4f9307bbca",
        "colab": {
          "base_uri": "https://localhost:8080/",
          "height": 141
        }
      },
      "source": [
        "!pip install pandasql"
      ],
      "execution_count": null,
      "outputs": [
        {
          "output_type": "stream",
          "text": [
            "Requirement already satisfied: pandasql in /usr/local/lib/python3.6/dist-packages (0.7.3)\n",
            "Requirement already satisfied: pandas in /usr/local/lib/python3.6/dist-packages (from pandasql) (1.0.5)\n",
            "Requirement already satisfied: sqlalchemy in /usr/local/lib/python3.6/dist-packages (from pandasql) (1.3.19)\n",
            "Requirement already satisfied: numpy in /usr/local/lib/python3.6/dist-packages (from pandasql) (1.18.5)\n",
            "Requirement already satisfied: python-dateutil>=2.6.1 in /usr/local/lib/python3.6/dist-packages (from pandas->pandasql) (2.8.1)\n",
            "Requirement already satisfied: pytz>=2017.2 in /usr/local/lib/python3.6/dist-packages (from pandas->pandasql) (2018.9)\n",
            "Requirement already satisfied: six>=1.5 in /usr/local/lib/python3.6/dist-packages (from python-dateutil>=2.6.1->pandas->pandasql) (1.15.0)\n"
          ],
          "name": "stdout"
        }
      ]
    },
    {
      "cell_type": "code",
      "metadata": {
        "id": "o8I2T-vIzh5J"
      },
      "source": [
        "import pandas as pd\n",
        "import pandasql"
      ],
      "execution_count": null,
      "outputs": []
    },
    {
      "cell_type": "code",
      "metadata": {
        "id": "qakSixqKzhuf"
      },
      "source": [
        "ovnis = pd.read_csv(\"OVNIS.csv\")"
      ],
      "execution_count": null,
      "outputs": []
    },
    {
      "cell_type": "code",
      "metadata": {
        "id": "aY9YoygayO-O",
        "outputId": "6b7f81f5-76b7-4ee5-8984-9901fe862464",
        "colab": {
          "base_uri": "https://localhost:8080/",
          "height": 197
        }
      },
      "source": [
        "ovnis.head(5)\n"
      ],
      "execution_count": null,
      "outputs": [
        {
          "output_type": "execute_result",
          "data": {
            "text/html": [
              "<div>\n",
              "<style scoped>\n",
              "    .dataframe tbody tr th:only-of-type {\n",
              "        vertical-align: middle;\n",
              "    }\n",
              "\n",
              "    .dataframe tbody tr th {\n",
              "        vertical-align: top;\n",
              "    }\n",
              "\n",
              "    .dataframe thead th {\n",
              "        text-align: right;\n",
              "    }\n",
              "</style>\n",
              "<table border=\"1\" class=\"dataframe\">\n",
              "  <thead>\n",
              "    <tr style=\"text-align: right;\">\n",
              "      <th></th>\n",
              "      <th>Date / Time</th>\n",
              "      <th>City</th>\n",
              "      <th>State</th>\n",
              "      <th>Shape</th>\n",
              "      <th>Duration</th>\n",
              "      <th>Summary</th>\n",
              "      <th>Posted</th>\n",
              "    </tr>\n",
              "  </thead>\n",
              "  <tbody>\n",
              "    <tr>\n",
              "      <th>0</th>\n",
              "      <td>1/29/97 23:15</td>\n",
              "      <td>East Greenwich</td>\n",
              "      <td>RI</td>\n",
              "      <td>Disk</td>\n",
              "      <td>5 minutes</td>\n",
              "      <td>I witnessed a UFO which may be of the Lazar\"Sp...</td>\n",
              "      <td>3/7/98</td>\n",
              "    </tr>\n",
              "    <tr>\n",
              "      <th>1</th>\n",
              "      <td>1/26/97 22:00</td>\n",
              "      <td>Flagstaff</td>\n",
              "      <td>AZ</td>\n",
              "      <td>Light</td>\n",
              "      <td>six minutes</td>\n",
              "      <td>It traveled at about the same speed we were go...</td>\n",
              "      <td>3/19/09</td>\n",
              "    </tr>\n",
              "    <tr>\n",
              "      <th>2</th>\n",
              "      <td>1/25/97 21:00</td>\n",
              "      <td>Marion</td>\n",
              "      <td>WI</td>\n",
              "      <td>Triangle</td>\n",
              "      <td>2 minutes</td>\n",
              "      <td>On a camping trip 3 triangle shaped objects we...</td>\n",
              "      <td>3/7/98</td>\n",
              "    </tr>\n",
              "    <tr>\n",
              "      <th>3</th>\n",
              "      <td>1/25/97 06:00</td>\n",
              "      <td>Mount Hope/Binbrook (Canada)</td>\n",
              "      <td>ON</td>\n",
              "      <td>Disk</td>\n",
              "      <td>1/2 hour</td>\n",
              "      <td>A large disk or saucer type object, approximat...</td>\n",
              "      <td>4/28/01</td>\n",
              "    </tr>\n",
              "    <tr>\n",
              "      <th>4</th>\n",
              "      <td>1/24/97 19:00</td>\n",
              "      <td>Alta</td>\n",
              "      <td>UT</td>\n",
              "      <td>Other</td>\n",
              "      <td>3 hours plus</td>\n",
              "      <td>A \"moving star\" similar to a satellite stopped...</td>\n",
              "      <td>3/7/98</td>\n",
              "    </tr>\n",
              "  </tbody>\n",
              "</table>\n",
              "</div>"
            ],
            "text/plain": [
              "     Date / Time  ...   Posted\n",
              "0  1/29/97 23:15  ...   3/7/98\n",
              "1  1/26/97 22:00  ...  3/19/09\n",
              "2  1/25/97 21:00  ...   3/7/98\n",
              "3  1/25/97 06:00  ...  4/28/01\n",
              "4  1/24/97 19:00  ...   3/7/98\n",
              "\n",
              "[5 rows x 7 columns]"
            ]
          },
          "metadata": {
            "tags": []
          },
          "execution_count": 29
        }
      ]
    },
    {
      "cell_type": "code",
      "metadata": {
        "id": "wXWzO8IJ1rGe",
        "outputId": "dff826c6-fa54-4c8e-99e8-f3ae497d02c4",
        "colab": {
          "base_uri": "https://localhost:8080/",
          "height": 34
        }
      },
      "source": [
        "# 5.4     Item 1 Saber a quantidade de linhas, observações ou variáveis que foram coletadas.\n",
        "\n",
        "len(ovnis)"
      ],
      "execution_count": null,
      "outputs": [
        {
          "output_type": "execute_result",
          "data": {
            "text/plain": [
              "102391"
            ]
          },
          "metadata": {
            "tags": []
          },
          "execution_count": 30
        }
      ]
    },
    {
      "cell_type": "code",
      "metadata": {
        "id": "r9QkIvkn3-Zr",
        "outputId": "1d9ba987-4c00-4654-daae-5cc3d3692a76",
        "colab": {
          "base_uri": "https://localhost:8080/",
          "height": 230
        }
      },
      "source": [
        "# Item 2 Quantos relatos ocorreram por estado em ordem decrescente?\n",
        "\n",
        "estado_desc = ovnis[\"State\"].value_counts() # contando os relatos pela coluna state \n",
        "estado_desc.sort_values(ascending=False)"
      ],
      "execution_count": null,
      "outputs": [
        {
          "output_type": "execute_result",
          "data": {
            "text/plain": [
              "CA    11745\n",
              "FL     5721\n",
              "WA     4992\n",
              "TX     4230\n",
              "NY     3952\n",
              "      ...  \n",
              "PE       20\n",
              "PR       19\n",
              "YT       19\n",
              "YK        5\n",
              "VI        1\n",
              "Name: State, Length: 68, dtype: int64"
            ]
          },
          "metadata": {
            "tags": []
          },
          "execution_count": 31
        }
      ]
    },
    {
      "cell_type": "code",
      "metadata": {
        "id": "20pWeJlI-Nqk",
        "outputId": "c26d500e-2a62-4def-d361-1381dd666451",
        "colab": {
          "base_uri": "https://localhost:8080/",
          "height": 230
        }
      },
      "source": [
        "#Item 3 Remover possíveis campos vazios (sem estado).\n",
        "ovnis[\"State\"].dropna()"
      ],
      "execution_count": null,
      "outputs": [
        {
          "output_type": "execute_result",
          "data": {
            "text/plain": [
              "0         RI\n",
              "1         AZ\n",
              "2         WI\n",
              "3         ON\n",
              "4         UT\n",
              "          ..\n",
              "102385    NY\n",
              "102386    OK\n",
              "102387    VA\n",
              "102388    ID\n",
              "102390    AK\n",
              "Name: State, Length: 95084, dtype: object"
            ]
          },
          "metadata": {
            "tags": []
          },
          "execution_count": 32
        }
      ]
    },
    {
      "cell_type": "code",
      "metadata": {
        "id": "RyHde30k_QZO",
        "outputId": "6fec1f79-4691-47cd-b1c5-7ab55666a368",
        "colab": {
          "base_uri": "https://localhost:8080/",
          "height": 406
        }
      },
      "source": [
        "#Item 4\n",
        "q = \"\"\"\n",
        "   SELECT * from ovnis where State LIKE '%AK%' OR State LIKE '%AL%'\n",
        "OR State LIKE '%AR%'\n",
        "OR State LIKE '%AZ%'\n",
        "OR State LIKE '%CA%'\n",
        "OR State LIKE '%CO%'\n",
        "OR State LIKE '%CT%'\n",
        "OR State LIKE '%DE%'\n",
        "OR State LIKE '%FL%'\n",
        "OR State LIKE '%GA%'\n",
        "OR State LIKE '%HI%'\n",
        "OR State LIKE '%IA%'\n",
        "OR State LIKE '%ID%'\n",
        "OR State LIKE '%IL%'\n",
        "OR State LIKE '%IN%'\n",
        "OR State LIKE '%KS%'\n",
        "OR State LIKE '%KY%'\n",
        "OR State LIKE '%LA%'\n",
        "OR State LIKE '%MA%'\n",
        "OR State LIKE '%MD%'\n",
        "OR State LIKE '%ME%'\n",
        "OR State LIKE '%MI%'\n",
        "OR State LIKE '%MN%' OR State LIKE '%MO%' OR State LIKE '%MS%' OR State LIKE '%MT%' OR State LIKE '%NC%' OR State LIKE '%ND%' \n",
        "OR State LIKE '%NE%' \n",
        "OR State LIKE '%NH%' \n",
        "OR State LIKE '%NJ%' \n",
        "OR State LIKE '%NM%' \n",
        "OR State LIKE '%NV%' \n",
        "OR State LIKE '%NY%' \n",
        "OR State LIKE '%OH%' \n",
        "OR State LIKE '%OK%' \n",
        "OR State LIKE '%OR%' \n",
        "OR State LIKE '%PA%' \n",
        "OR State LIKE '%RI%' \n",
        "OR State LIKE '%SC%' \n",
        "OR State LIKE '%SD%' \n",
        "OR State LIKE '%TN%' \n",
        "OR State LIKE '%TX%' \n",
        "OR State LIKE '%UT%' \n",
        "OR State LIKE '%VA%' \n",
        "OR State LIKE '%VT%' \n",
        "OR State LIKE '%WA%' \n",
        "OR State LIKE '%WI%' \n",
        "OR State LIKE '%WV%' \n",
        "OR State LIKE '%WY%'\n",
        "  \"\"\"\n",
        "estados_unidos = pandasql.sqldf(q.lower(), locals())\n",
        "estados_unidos\n",
        "\n"
      ],
      "execution_count": null,
      "outputs": [
        {
          "output_type": "execute_result",
          "data": {
            "text/html": [
              "<div>\n",
              "<style scoped>\n",
              "    .dataframe tbody tr th:only-of-type {\n",
              "        vertical-align: middle;\n",
              "    }\n",
              "\n",
              "    .dataframe tbody tr th {\n",
              "        vertical-align: top;\n",
              "    }\n",
              "\n",
              "    .dataframe thead th {\n",
              "        text-align: right;\n",
              "    }\n",
              "</style>\n",
              "<table border=\"1\" class=\"dataframe\">\n",
              "  <thead>\n",
              "    <tr style=\"text-align: right;\">\n",
              "      <th></th>\n",
              "      <th>Date / Time</th>\n",
              "      <th>City</th>\n",
              "      <th>State</th>\n",
              "      <th>Shape</th>\n",
              "      <th>Duration</th>\n",
              "      <th>Summary</th>\n",
              "      <th>Posted</th>\n",
              "    </tr>\n",
              "  </thead>\n",
              "  <tbody>\n",
              "    <tr>\n",
              "      <th>0</th>\n",
              "      <td>1/29/97 23:15</td>\n",
              "      <td>East Greenwich</td>\n",
              "      <td>RI</td>\n",
              "      <td>Disk</td>\n",
              "      <td>5 minutes</td>\n",
              "      <td>I witnessed a UFO which may be of the Lazar\"Sp...</td>\n",
              "      <td>3/7/98</td>\n",
              "    </tr>\n",
              "    <tr>\n",
              "      <th>1</th>\n",
              "      <td>1/26/97 22:00</td>\n",
              "      <td>Flagstaff</td>\n",
              "      <td>AZ</td>\n",
              "      <td>Light</td>\n",
              "      <td>six minutes</td>\n",
              "      <td>It traveled at about the same speed we were go...</td>\n",
              "      <td>3/19/09</td>\n",
              "    </tr>\n",
              "    <tr>\n",
              "      <th>2</th>\n",
              "      <td>1/25/97 21:00</td>\n",
              "      <td>Marion</td>\n",
              "      <td>WI</td>\n",
              "      <td>Triangle</td>\n",
              "      <td>2 minutes</td>\n",
              "      <td>On a camping trip 3 triangle shaped objects we...</td>\n",
              "      <td>3/7/98</td>\n",
              "    </tr>\n",
              "    <tr>\n",
              "      <th>3</th>\n",
              "      <td>1/24/97 19:00</td>\n",
              "      <td>Alta</td>\n",
              "      <td>UT</td>\n",
              "      <td>Other</td>\n",
              "      <td>3 hours plus</td>\n",
              "      <td>A \"moving star\" similar to a satellite stopped...</td>\n",
              "      <td>3/7/98</td>\n",
              "    </tr>\n",
              "    <tr>\n",
              "      <th>4</th>\n",
              "      <td>1/23/97 18:30</td>\n",
              "      <td>North Kingstown</td>\n",
              "      <td>RI</td>\n",
              "      <td>Triangle</td>\n",
              "      <td>3 minutes</td>\n",
              "      <td>1/23/97: Huge black triangle w/ rearguard heli...</td>\n",
              "      <td>1/27/05</td>\n",
              "    </tr>\n",
              "    <tr>\n",
              "      <th>...</th>\n",
              "      <td>...</td>\n",
              "      <td>...</td>\n",
              "      <td>...</td>\n",
              "      <td>...</td>\n",
              "      <td>...</td>\n",
              "      <td>...</td>\n",
              "      <td>...</td>\n",
              "    </tr>\n",
              "    <tr>\n",
              "      <th>90587</th>\n",
              "      <td>12/1/17 17:00</td>\n",
              "      <td>New Rochelle</td>\n",
              "      <td>NY</td>\n",
              "      <td>Sphere</td>\n",
              "      <td>5 minutes</td>\n",
              "      <td>Red light sphere moving in vertical and horizo...</td>\n",
              "      <td>12/4/17</td>\n",
              "    </tr>\n",
              "    <tr>\n",
              "      <th>90588</th>\n",
              "      <td>12/1/17 17:00</td>\n",
              "      <td>Foyil</td>\n",
              "      <td>OK</td>\n",
              "      <td>Formation</td>\n",
              "      <td>All night</td>\n",
              "      <td>At dusk my wife and I noticed a star that look...</td>\n",
              "      <td>12/10/17</td>\n",
              "    </tr>\n",
              "    <tr>\n",
              "      <th>90589</th>\n",
              "      <td>12/1/17 04:00</td>\n",
              "      <td>Chesapeake</td>\n",
              "      <td>VA</td>\n",
              "      <td>Light</td>\n",
              "      <td>5 minutes</td>\n",
              "      <td>Light was moving at a constant speed, vanished...</td>\n",
              "      <td>12/4/17</td>\n",
              "    </tr>\n",
              "    <tr>\n",
              "      <th>90590</th>\n",
              "      <td>12/1/17 04:00</td>\n",
              "      <td>Boise</td>\n",
              "      <td>ID</td>\n",
              "      <td>Cigar</td>\n",
              "      <td>10 minutes</td>\n",
              "      <td>Large cigar-shaped UFO with visible cabin lights.</td>\n",
              "      <td>12/4/17</td>\n",
              "    </tr>\n",
              "    <tr>\n",
              "      <th>90591</th>\n",
              "      <td>12/1/17 01:00</td>\n",
              "      <td>Wasilla</td>\n",
              "      <td>AK</td>\n",
              "      <td>Flash</td>\n",
              "      <td>25 minutes</td>\n",
              "      <td>Flashing, fast moving light over Alaska.</td>\n",
              "      <td>12/4/17</td>\n",
              "    </tr>\n",
              "  </tbody>\n",
              "</table>\n",
              "<p>90592 rows × 7 columns</p>\n",
              "</div>"
            ],
            "text/plain": [
              "         Date / Time  ...    Posted\n",
              "0      1/29/97 23:15  ...    3/7/98\n",
              "1      1/26/97 22:00  ...   3/19/09\n",
              "2      1/25/97 21:00  ...    3/7/98\n",
              "3      1/24/97 19:00  ...    3/7/98\n",
              "4      1/23/97 18:30  ...   1/27/05\n",
              "...              ...  ...       ...\n",
              "90587  12/1/17 17:00  ...   12/4/17\n",
              "90588  12/1/17 17:00  ...  12/10/17\n",
              "90589  12/1/17 04:00  ...   12/4/17\n",
              "90590  12/1/17 04:00  ...   12/4/17\n",
              "90591  12/1/17 01:00  ...   12/4/17\n",
              "\n",
              "[90592 rows x 7 columns]"
            ]
          },
          "metadata": {
            "tags": []
          },
          "execution_count": 33
        }
      ]
    },
    {
      "cell_type": "code",
      "metadata": {
        "id": "E9ONZcdIF8FW"
      },
      "source": [
        "# tem 5 Consulta por cidades, com o objetivo de saber quais contêm o maior número de relatos (cidades que apresentem ao menos 10 relatos).\n",
        "\n",
        "#cidade_estados_unidos = estados_unidos[\"City\"].value_counts()\n",
        "#cidade_estados_unidos[cidade_estados_unidos>=10]\n",
        "   \n",
        "q = \"\"\"\n",
        "    SELECT City,count(city) as 'número relatos' from ovnis Group by city having count(city) >=10 order by count(city)desc\n",
        "\n",
        "    \"\"\"\n",
        "cidade_estados_unidos = pandasql.sqldf(q.lower(),locals())\n",
        "cidade_estados_unidos"
      ],
      "execution_count": null,
      "outputs": []
    },
    {
      "cell_type": "code",
      "metadata": {
        "id": "fMikUquUfN7m"
      },
      "source": [
        "#Com o dado anterior, responder a seguinte pergunta: por que será que essa é a cidade que possui mais relatos?\n",
        "# A cidade de Phoenix resgistrou o maior número de relatos em relação as outras cidades, pois constatou um alto número de testemunha \n",
        "# que avistaram diversoso objteos no céu dos EUA ao mesmo tempo, esse fenômeno ficou conhecida na midia social como luzes de phoenix. "
      ],
      "execution_count": null,
      "outputs": []
    },
    {
      "cell_type": "code",
      "metadata": {
        "id": "our97ak-gzzI"
      },
      "source": [
        "#Fazer uma query exclusiva para o estado com maior número de relatos, buscando cidades que possuam um número superior a 10 relatórios. \n",
        "#Enfatizar a cidade, a quantidade de relatos e formato do objeto não identificado.\n",
        " \n",
        "q = \"\"\"\n",
        "    SELECT State,city,shape, count(state) as 'número relatos' from estados_unidos Group by state having count(state) >10 order by count(state)desc\n",
        " \n",
        "    \"\"\"\n",
        " \n",
        " \n",
        "estado_estados_unidos = pandasql.sqldf(q.lower(),locals())\n",
        "estado_estados_unidos"
      ],
      "execution_count": null,
      "outputs": []
    }
  ]
}